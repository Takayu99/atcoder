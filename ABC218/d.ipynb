{
 "cells": [
  {
   "cell_type": "code",
   "execution_count": 19,
   "metadata": {},
   "outputs": [
    {
     "name": "stdout",
     "output_type": "stream",
     "text": [
      "6\n",
      "0 0\n",
      "1 0\n",
      "0 1\n",
      "1 1\n",
      "2 0\n",
      "2 1\n",
      "3\n"
     ]
    }
   ],
   "source": [
    "import math\n",
    "from collections import deque, Counter\n",
    "from itertools import product, combinations, permutations\n",
    "from bisect import bisect, bisect_left, bisect_right\n",
    "import heapq\n",
    "import sys\n",
    "sys.setrecursionlimit(10 ** 6)\n",
    "\n",
    "n = int(input())\n",
    "\n",
    "def combination(n, r):\n",
    "    return math.factorial(n) // (math.factorial(n - r) * math.factorial(r))\n",
    "\n",
    "xy = {}\n",
    "for i in range(n):\n",
    "    x, y = map(int, input().split())\n",
    "    xy.setdefault(x, []).append(y)\n",
    "\n",
    "keys = list(xy.keys())\n",
    "l = len(keys)\n",
    "ans = 0\n",
    "\n",
    "for i in range(l - 1):\n",
    "    for j in range(i + 1, l):\n",
    "        cnt = Counter(xy[keys[i]] + xy[keys[j]])\n",
    "        tmp = 0\n",
    "        for c in list(cnt.values()):\n",
    "            if c == 2:\n",
    "                tmp += 1\n",
    "        if tmp >= 2:\n",
    "            ans += combination(tmp, 2)\n",
    "\n",
    "print(ans)"
   ]
  },
  {
   "cell_type": "code",
   "execution_count": 17,
   "metadata": {},
   "outputs": [
    {
     "name": "stdout",
     "output_type": "stream",
     "text": [
      "[1, 2, 3, 4, 5, 6]\n"
     ]
    }
   ],
   "source": [
    "a = [1, 2, 3]\n",
    "b = [4, 5, 6]\n",
    "print(a + b)\n",
    "for i in range(0):\n",
    "    print(\"hello\")"
   ]
  }
 ],
 "metadata": {
  "kernelspec": {
   "display_name": "Python 3",
   "language": "python",
   "name": "python3"
  },
  "language_info": {
   "codemirror_mode": {
    "name": "ipython",
    "version": 3
   },
   "file_extension": ".py",
   "mimetype": "text/x-python",
   "name": "python",
   "nbconvert_exporter": "python",
   "pygments_lexer": "ipython3",
   "version": "3.8.5"
  }
 },
 "nbformat": 4,
 "nbformat_minor": 4
}
