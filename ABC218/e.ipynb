{
 "cells": [
  {
   "cell_type": "code",
   "execution_count": 37,
   "metadata": {},
   "outputs": [
    {
     "name": "stdout",
     "output_type": "stream",
     "text": [
      "4 4\n",
      "1 2 0\n",
      "1 3 0\n",
      "1 4 0\n",
      "2 3 0\n",
      "0\n"
     ]
    }
   ],
   "source": [
    "import math\n",
    "from collections import deque, Counter\n",
    "from itertools import product, combinations, permutations\n",
    "from bisect import bisect, bisect_left, bisect_right\n",
    "import heapq\n",
    "import sys\n",
    "sys.setrecursionlimit(10 ** 6)\n",
    "\n",
    "n, m = map(int, input().split())\n",
    "total = 0\n",
    "INF = 10 ** 9\n",
    "g = [[] for _ in range(n + 1)]\n",
    "\n",
    "for i in range(m):\n",
    "    a, b , c = map(int, input().split())\n",
    "    if c < 0:\n",
    "        c = 0\n",
    "    total += c\n",
    "    g[a].append([b, c])\n",
    "    g[b].append([a, c])\n",
    "\n",
    "dp = [INF] * (n + 1)\n",
    "dp[0] = 0\n",
    "dp[1] = 0\n",
    "goto = deque()\n",
    "goto.append(1)\n",
    "\n",
    "while(goto):\n",
    "    v = goto.popleft()\n",
    "    cost = dp[v]\n",
    "    for nv in g[v]:\n",
    "        if dp[nv[0]] > cost + nv[1]:\n",
    "            goto.append(nv[0])\n",
    "            dp[nv[0]] = cost + nv[1]\n",
    "\n",
    "flag = [True] * (n + 1)\n",
    "ans = 0\n",
    "goto.append(1)\n",
    "while(goto):\n",
    "    v = goto.popleft()\n",
    "    for nv in g[v]:\n",
    "        if dp[nv[0]] - dp[v] == nv[1] and flag[nv[0]]:\n",
    "            goto.append(nv[0])\n",
    "            ans += nv[1]\n",
    "            flag[nv[0]] = False\n",
    "            \n",
    "# print(\"total: \", total)\n",
    "# print(\"ans: \", ans)\n",
    "# print(\"dp: \", dp)\n",
    "print(total - ans)"
   ]
  }
 ],
 "metadata": {
  "kernelspec": {
   "display_name": "Python 3",
   "language": "python",
   "name": "python3"
  },
  "language_info": {
   "codemirror_mode": {
    "name": "ipython",
    "version": 3
   },
   "file_extension": ".py",
   "mimetype": "text/x-python",
   "name": "python",
   "nbconvert_exporter": "python",
   "pygments_lexer": "ipython3",
   "version": "3.8.5"
  }
 },
 "nbformat": 4,
 "nbformat_minor": 4
}
