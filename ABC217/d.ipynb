{
 "cells": [
  {
   "cell_type": "code",
   "execution_count": 2,
   "metadata": {},
   "outputs": [
    {
     "name": "stdout",
     "output_type": "stream",
     "text": [
      "100 10\n",
      "1 31\n",
      "{0, 100, 31}\n",
      "\n"
     ]
    },
    {
     "ename": "ValueError",
     "evalue": "not enough values to unpack (expected 2, got 0)",
     "output_type": "error",
     "traceback": [
      "\u001b[0;31m---------------------------------------------------------------------------\u001b[0m",
      "\u001b[0;31mValueError\u001b[0m                                Traceback (most recent call last)",
      "\u001b[0;32m<ipython-input-2-4171ad360d6b>\u001b[0m in \u001b[0;36m<module>\u001b[0;34m\u001b[0m\n\u001b[1;32m     15\u001b[0m \u001b[0msort\u001b[0m \u001b[0;34m=\u001b[0m \u001b[0;32mFalse\u001b[0m\u001b[0;34m\u001b[0m\u001b[0;34m\u001b[0m\u001b[0m\n\u001b[1;32m     16\u001b[0m \u001b[0;32mfor\u001b[0m \u001b[0mi\u001b[0m \u001b[0;32min\u001b[0m \u001b[0mrange\u001b[0m\u001b[0;34m(\u001b[0m\u001b[0mq\u001b[0m\u001b[0;34m)\u001b[0m\u001b[0;34m:\u001b[0m\u001b[0;34m\u001b[0m\u001b[0;34m\u001b[0m\u001b[0m\n\u001b[0;32m---> 17\u001b[0;31m     \u001b[0mc\u001b[0m\u001b[0;34m,\u001b[0m \u001b[0mx\u001b[0m \u001b[0;34m=\u001b[0m \u001b[0mmap\u001b[0m\u001b[0;34m(\u001b[0m\u001b[0mint\u001b[0m\u001b[0;34m,\u001b[0m \u001b[0minput\u001b[0m\u001b[0;34m(\u001b[0m\u001b[0;34m)\u001b[0m\u001b[0;34m.\u001b[0m\u001b[0msplit\u001b[0m\u001b[0;34m(\u001b[0m\u001b[0;34m)\u001b[0m\u001b[0;34m)\u001b[0m\u001b[0;34m\u001b[0m\u001b[0;34m\u001b[0m\u001b[0m\n\u001b[0m\u001b[1;32m     18\u001b[0m     \u001b[0;32mif\u001b[0m \u001b[0mc\u001b[0m \u001b[0;34m==\u001b[0m \u001b[0;36m1\u001b[0m\u001b[0;34m:\u001b[0m\u001b[0;34m\u001b[0m\u001b[0;34m\u001b[0m\u001b[0m\n\u001b[1;32m     19\u001b[0m \u001b[0;31m#         cut = set(cut)\u001b[0m\u001b[0;34m\u001b[0m\u001b[0;34m\u001b[0m\u001b[0;34m\u001b[0m\u001b[0m\n",
      "\u001b[0;31mValueError\u001b[0m: not enough values to unpack (expected 2, got 0)"
     ]
    }
   ],
   "source": [
    "import math\n",
    "from collections import deque, Counter\n",
    "from itertools import product, combinations, permutations\n",
    "from bisect import bisect, bisect_left, bisect_right\n",
    "import heapq\n",
    "import sys\n",
    "sys.setrecursionlimit(10 ** 6)\n",
    "\n",
    "\n",
    "l, q = map(int, input().split())\n",
    "cut = set()\n",
    "cut.add(0)\n",
    "cut.add(l)\n",
    "ans = []\n",
    "\n",
    "for i in range(q):\n",
    "    c, x = map(int, input().split())\n",
    "    if c == 1:\n",
    "#         cut = set(cut)\n",
    "        cut.add(x)\n",
    "    else:\n",
    "        pass\n",
    "#         cut = list(cut)\n",
    "#         index = bisect_left(cut, x)\n",
    "#         print(index)\n",
    "#         ans.append(cut[index] - cut[index - 1])\n",
    "    print(cut)\n",
    "        \n",
    "for a in ans:\n",
    "    print(a)\n",
    "        \n",
    "        \n",
    "    "
   ]
  },
  {
   "cell_type": "code",
   "execution_count": 3,
   "metadata": {},
   "outputs": [
    {
     "name": "stdout",
     "output_type": "stream",
     "text": [
      "{3}\n",
      "{3, 6}\n",
      "{2, 3, 6}\n",
      "{2, 3, 4, 6}\n",
      "{2, 3, 4, 6, 10}\n",
      "{2, 3, 4, 5, 6, 10}\n"
     ]
    }
   ],
   "source": [
    "s = set()\n",
    "a = [3, 6, 2, 4, 10, 5]\n",
    "for x in a:\n",
    "    s.add(x)\n",
    "    print(s)"
   ]
  },
  {
   "cell_type": "code",
   "execution_count": null,
   "metadata": {},
   "outputs": [],
   "source": [
    "class Node:\n",
    "    def __init__(self, data): #コンストラクタ\n",
    "        self.data = data #ノードがもつ数値\n",
    "        self.left = None #左エッジ\n",
    "        self.right = None #右エッジ\n",
    "\n",
    "\n",
    "class BST:\n",
    "    def __init__(self, number_list): #コンストラクタ\n",
    "        self.root = None #ルートノード初期化\n",
    "        for node in number_list: #数値を持つ配列から二分木を生成\n",
    "            self.insert(node) #挿入メソッドを使ってノードを挿入する\n",
    "    #挿入\n",
    "    def insert(self, data):\n",
    "        n = self.root\n",
    "        if n == None:\n",
    "            self.root = Node(data)\n",
    "            return\n",
    "        else:\n",
    "            while True:\n",
    "                entry = n.data\n",
    "                if data < entry:\n",
    "                    if n.left is None:\n",
    "                        n.left = Node(data)\n",
    "                        return\n",
    "                    n = n.left\n",
    "                elif data > entry:\n",
    "                    if n.right is None:\n",
    "                        n.right = Node(data)\n",
    "                        return\n",
    "                    n = n.right\n",
    "                else:\n",
    "                    n.data = data\n",
    "                    return\n",
    "    #検索機能(インターフェース)\n",
    "    def search(self, search):\n",
    "        searcher = self._search_bool(search)\n",
    "        if searcher is None:\n",
    "            print(\"Search target is not found.\")\n",
    "        elif searcher == True:\n",
    "            print(str(search) + \" is found!\")\n",
    "        elif searcher == False:\n",
    "            print(str(search) + \" is not found.\")\n",
    "\n",
    "    #検索機能本体(出力:boolean),深さ優先探索\n",
    "    #nodeのvisitedはpopで代用\n",
    "    def _search_bool(self, search):\n",
    "        n = self.root\n",
    "        if n is None:\n",
    "            return None\n",
    "        else:\n",
    "            lst = []\n",
    "            lst.append(n)\n",
    "            while len(lst) > 0:\n",
    "                node = lst.pop()\n",
    "                if node.data == search:\n",
    "                    return True\n",
    "                if node.right is not None:\n",
    "                    lst.append(node.right)\n",
    "                if node.left is not None:\n",
    "                    lst.append(node.left)\n",
    "            return False\n",
    "\n",
    "    def inorder(self,node): #中順探索 l->r->p^n\n",
    "        if node is not None:\n",
    "            self.inorder(node.left)\n",
    "            print(node.data)\n",
    "            self.inorder(node.right)"
   ]
  }
 ],
 "metadata": {
  "kernelspec": {
   "display_name": "Python 3",
   "language": "python",
   "name": "python3"
  },
  "language_info": {
   "codemirror_mode": {
    "name": "ipython",
    "version": 3
   },
   "file_extension": ".py",
   "mimetype": "text/x-python",
   "name": "python",
   "nbconvert_exporter": "python",
   "pygments_lexer": "ipython3",
   "version": "3.8.5"
  }
 },
 "nbformat": 4,
 "nbformat_minor": 4
}
